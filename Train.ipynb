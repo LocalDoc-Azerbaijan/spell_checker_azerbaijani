{
 "cells": [
  {
   "cell_type": "code",
   "execution_count": null,
   "id": "25e281e6-0d70-470f-9c96-6f7fbebe3c50",
   "metadata": {},
   "outputs": [],
   "source": [
    "pip install tensorflow scikit-learn tokenizers matplotlib pandas"
   ]
  },
  {
   "cell_type": "code",
   "execution_count": 3,
   "id": "790a4e4a-5819-43c5-ab6a-7340a4ff2f90",
   "metadata": {},
   "outputs": [
    {
     "name": "stderr",
     "output_type": "stream",
     "text": [
      "2025-03-26 17:02:33.203211: E external/local_xla/xla/stream_executor/cuda/cuda_fft.cc:467] Unable to register cuFFT factory: Attempting to register factory for plugin cuFFT when one has already been registered\n",
      "WARNING: All log messages before absl::InitializeLog() is called are written to STDERR\n",
      "E0000 00:00:1743008553.241004    1364 cuda_dnn.cc:8579] Unable to register cuDNN factory: Attempting to register factory for plugin cuDNN when one has already been registered\n",
      "E0000 00:00:1743008553.252672    1364 cuda_blas.cc:1407] Unable to register cuBLAS factory: Attempting to register factory for plugin cuBLAS when one has already been registered\n",
      "W0000 00:00:1743008553.282410    1364 computation_placer.cc:177] computation placer already registered. Please check linkage and avoid linking the same target more than once.\n",
      "W0000 00:00:1743008553.282450    1364 computation_placer.cc:177] computation placer already registered. Please check linkage and avoid linking the same target more than once.\n",
      "W0000 00:00:1743008553.282458    1364 computation_placer.cc:177] computation placer already registered. Please check linkage and avoid linking the same target more than once.\n",
      "W0000 00:00:1743008553.282464    1364 computation_placer.cc:177] computation placer already registered. Please check linkage and avoid linking the same target more than once.\n"
     ]
    },
    {
     "name": "stdout",
     "output_type": "stream",
     "text": [
      "Dataset loaded. Shape: (835564, 2)\n",
      "Class distribution:\n",
      "label\n",
      "0    677571\n",
      "1    157993\n",
      "Name: count, dtype: int64\n",
      "Training set size: 584894\n",
      "Validation set size: 125335\n",
      "Test set size: 125335\n",
      "Class distribution in training set:\n",
      "label\n",
      "0    474299\n",
      "1    110595\n",
      "Name: count, dtype: int64\n",
      "Class distribution in validation set:\n",
      "label\n",
      "0    101636\n",
      "1     23699\n",
      "Name: count, dtype: int64\n",
      "Class distribution in test set:\n",
      "label\n",
      "0    101636\n",
      "1     23699\n",
      "Name: count, dtype: int64\n",
      "\n",
      "\n",
      "\n",
      "Class weights: {0: 0.6165878485933979, 1: 2.644305800443058}\n"
     ]
    },
    {
     "name": "stderr",
     "output_type": "stream",
     "text": [
      "/opt/conda/lib/python3.10/site-packages/keras/src/layers/core/embedding.py:90: UserWarning: Argument `input_length` is deprecated. Just remove it.\n",
      "  warnings.warn(\n",
      "W0000 00:00:1743008606.638108    1364 gpu_device.cc:2341] Cannot dlopen some GPU libraries. Please make sure the missing libraries mentioned above are installed properly if you would like to use GPU. Follow the guide at https://www.tensorflow.org/install/gpu for how to download and setup the required libraries for your platform.\n",
      "Skipping registering GPU devices...\n"
     ]
    },
    {
     "data": {
      "text/html": [
       "<pre style=\"white-space:pre;overflow-x:auto;line-height:normal;font-family:Menlo,'DejaVu Sans Mono',consolas,'Courier New',monospace\"><span style=\"font-weight: bold\">Model: \"functional\"</span>\n",
       "</pre>\n"
      ],
      "text/plain": [
       "\u001b[1mModel: \"functional\"\u001b[0m\n"
      ]
     },
     "metadata": {},
     "output_type": "display_data"
    },
    {
     "data": {
      "text/html": [
       "<pre style=\"white-space:pre;overflow-x:auto;line-height:normal;font-family:Menlo,'DejaVu Sans Mono',consolas,'Courier New',monospace\">┏━━━━━━━━━━━━━━━━━━━━━━━━━━━━━━━━━┳━━━━━━━━━━━━━━━━━━━━━━━━┳━━━━━━━━━━━━━━━┓\n",
       "┃<span style=\"font-weight: bold\"> Layer (type)                    </span>┃<span style=\"font-weight: bold\"> Output Shape           </span>┃<span style=\"font-weight: bold\">       Param # </span>┃\n",
       "┡━━━━━━━━━━━━━━━━━━━━━━━━━━━━━━━━━╇━━━━━━━━━━━━━━━━━━━━━━━━╇━━━━━━━━━━━━━━━┩\n",
       "│ input_layer (<span style=\"color: #0087ff; text-decoration-color: #0087ff\">InputLayer</span>)        │ (<span style=\"color: #00d7ff; text-decoration-color: #00d7ff\">None</span>, <span style=\"color: #00af00; text-decoration-color: #00af00\">30</span>)             │             <span style=\"color: #00af00; text-decoration-color: #00af00\">0</span> │\n",
       "├─────────────────────────────────┼────────────────────────┼───────────────┤\n",
       "│ embedding (<span style=\"color: #0087ff; text-decoration-color: #0087ff\">Embedding</span>)           │ (<span style=\"color: #00d7ff; text-decoration-color: #00d7ff\">None</span>, <span style=\"color: #00af00; text-decoration-color: #00af00\">30</span>, <span style=\"color: #00af00; text-decoration-color: #00af00\">100</span>)        │       <span style=\"color: #00af00; text-decoration-color: #00af00\">100,400</span> │\n",
       "├─────────────────────────────────┼────────────────────────┼───────────────┤\n",
       "│ bidirectional (<span style=\"color: #0087ff; text-decoration-color: #0087ff\">Bidirectional</span>)   │ (<span style=\"color: #00d7ff; text-decoration-color: #00d7ff\">None</span>, <span style=\"color: #00af00; text-decoration-color: #00af00\">30</span>, <span style=\"color: #00af00; text-decoration-color: #00af00\">256</span>)        │       <span style=\"color: #00af00; text-decoration-color: #00af00\">234,496</span> │\n",
       "├─────────────────────────────────┼────────────────────────┼───────────────┤\n",
       "│ bidirectional_1 (<span style=\"color: #0087ff; text-decoration-color: #0087ff\">Bidirectional</span>) │ (<span style=\"color: #00d7ff; text-decoration-color: #00d7ff\">None</span>, <span style=\"color: #00af00; text-decoration-color: #00af00\">256</span>)            │       <span style=\"color: #00af00; text-decoration-color: #00af00\">394,240</span> │\n",
       "├─────────────────────────────────┼────────────────────────┼───────────────┤\n",
       "│ dropout (<span style=\"color: #0087ff; text-decoration-color: #0087ff\">Dropout</span>)               │ (<span style=\"color: #00d7ff; text-decoration-color: #00d7ff\">None</span>, <span style=\"color: #00af00; text-decoration-color: #00af00\">256</span>)            │             <span style=\"color: #00af00; text-decoration-color: #00af00\">0</span> │\n",
       "├─────────────────────────────────┼────────────────────────┼───────────────┤\n",
       "│ dense (<span style=\"color: #0087ff; text-decoration-color: #0087ff\">Dense</span>)                   │ (<span style=\"color: #00d7ff; text-decoration-color: #00d7ff\">None</span>, <span style=\"color: #00af00; text-decoration-color: #00af00\">1</span>)              │           <span style=\"color: #00af00; text-decoration-color: #00af00\">257</span> │\n",
       "└─────────────────────────────────┴────────────────────────┴───────────────┘\n",
       "</pre>\n"
      ],
      "text/plain": [
       "┏━━━━━━━━━━━━━━━━━━━━━━━━━━━━━━━━━┳━━━━━━━━━━━━━━━━━━━━━━━━┳━━━━━━━━━━━━━━━┓\n",
       "┃\u001b[1m \u001b[0m\u001b[1mLayer (type)                   \u001b[0m\u001b[1m \u001b[0m┃\u001b[1m \u001b[0m\u001b[1mOutput Shape          \u001b[0m\u001b[1m \u001b[0m┃\u001b[1m \u001b[0m\u001b[1m      Param #\u001b[0m\u001b[1m \u001b[0m┃\n",
       "┡━━━━━━━━━━━━━━━━━━━━━━━━━━━━━━━━━╇━━━━━━━━━━━━━━━━━━━━━━━━╇━━━━━━━━━━━━━━━┩\n",
       "│ input_layer (\u001b[38;5;33mInputLayer\u001b[0m)        │ (\u001b[38;5;45mNone\u001b[0m, \u001b[38;5;34m30\u001b[0m)             │             \u001b[38;5;34m0\u001b[0m │\n",
       "├─────────────────────────────────┼────────────────────────┼───────────────┤\n",
       "│ embedding (\u001b[38;5;33mEmbedding\u001b[0m)           │ (\u001b[38;5;45mNone\u001b[0m, \u001b[38;5;34m30\u001b[0m, \u001b[38;5;34m100\u001b[0m)        │       \u001b[38;5;34m100,400\u001b[0m │\n",
       "├─────────────────────────────────┼────────────────────────┼───────────────┤\n",
       "│ bidirectional (\u001b[38;5;33mBidirectional\u001b[0m)   │ (\u001b[38;5;45mNone\u001b[0m, \u001b[38;5;34m30\u001b[0m, \u001b[38;5;34m256\u001b[0m)        │       \u001b[38;5;34m234,496\u001b[0m │\n",
       "├─────────────────────────────────┼────────────────────────┼───────────────┤\n",
       "│ bidirectional_1 (\u001b[38;5;33mBidirectional\u001b[0m) │ (\u001b[38;5;45mNone\u001b[0m, \u001b[38;5;34m256\u001b[0m)            │       \u001b[38;5;34m394,240\u001b[0m │\n",
       "├─────────────────────────────────┼────────────────────────┼───────────────┤\n",
       "│ dropout (\u001b[38;5;33mDropout\u001b[0m)               │ (\u001b[38;5;45mNone\u001b[0m, \u001b[38;5;34m256\u001b[0m)            │             \u001b[38;5;34m0\u001b[0m │\n",
       "├─────────────────────────────────┼────────────────────────┼───────────────┤\n",
       "│ dense (\u001b[38;5;33mDense\u001b[0m)                   │ (\u001b[38;5;45mNone\u001b[0m, \u001b[38;5;34m1\u001b[0m)              │           \u001b[38;5;34m257\u001b[0m │\n",
       "└─────────────────────────────────┴────────────────────────┴───────────────┘\n"
      ]
     },
     "metadata": {},
     "output_type": "display_data"
    },
    {
     "data": {
      "text/html": [
       "<pre style=\"white-space:pre;overflow-x:auto;line-height:normal;font-family:Menlo,'DejaVu Sans Mono',consolas,'Courier New',monospace\"><span style=\"font-weight: bold\"> Total params: </span><span style=\"color: #00af00; text-decoration-color: #00af00\">729,393</span> (2.78 MB)\n",
       "</pre>\n"
      ],
      "text/plain": [
       "\u001b[1m Total params: \u001b[0m\u001b[38;5;34m729,393\u001b[0m (2.78 MB)\n"
      ]
     },
     "metadata": {},
     "output_type": "display_data"
    },
    {
     "data": {
      "text/html": [
       "<pre style=\"white-space:pre;overflow-x:auto;line-height:normal;font-family:Menlo,'DejaVu Sans Mono',consolas,'Courier New',monospace\"><span style=\"font-weight: bold\"> Trainable params: </span><span style=\"color: #00af00; text-decoration-color: #00af00\">729,393</span> (2.78 MB)\n",
       "</pre>\n"
      ],
      "text/plain": [
       "\u001b[1m Trainable params: \u001b[0m\u001b[38;5;34m729,393\u001b[0m (2.78 MB)\n"
      ]
     },
     "metadata": {},
     "output_type": "display_data"
    },
    {
     "data": {
      "text/html": [
       "<pre style=\"white-space:pre;overflow-x:auto;line-height:normal;font-family:Menlo,'DejaVu Sans Mono',consolas,'Courier New',monospace\"><span style=\"font-weight: bold\"> Non-trainable params: </span><span style=\"color: #00af00; text-decoration-color: #00af00\">0</span> (0.00 B)\n",
       "</pre>\n"
      ],
      "text/plain": [
       "\u001b[1m Non-trainable params: \u001b[0m\u001b[38;5;34m0\u001b[0m (0.00 B)\n"
      ]
     },
     "metadata": {},
     "output_type": "display_data"
    },
    {
     "name": "stdout",
     "output_type": "stream",
     "text": [
      "Epoch 1/100\n",
      "\n",
      "Epoch 1: val_accuracy improved from -inf to 0.86560, saving model to best_val_model.h5\n",
      "y: 0.7737 - loss: 0.4216   "
     ]
    },
    {
     "name": "stderr",
     "output_type": "stream",
     "text": [
      "WARNING:absl:You are saving your model as an HDF5 file via `model.save()` or `keras.saving.save_model(model)`. This file format is considered legacy. We recommend using instead the native Keras format, e.g. `model.save('my_model.keras')` or `keras.saving.save_model(model, 'my_model.keras')`. \n"
     ]
    },
    {
     "name": "stdout",
     "output_type": "stream",
     "text": [
      "\u001b[1m3917/3917\u001b[0m \u001b[32m━━━━━━━━━━━━━━━━━━━━\u001b[0m\u001b[37m\u001b[0m \u001b[1m208s\u001b[0m 53ms/step\n"
     ]
    },
    {
     "name": "stderr",
     "output_type": "stream",
     "text": [
      "WARNING:absl:You are saving your model as an HDF5 file via `model.save()` or `keras.saving.save_model(model)`. This file format is considered legacy. We recommend using instead the native Keras format, e.g. `model.save('my_model.keras')` or `keras.saving.save_model(model, 'my_model.keras')`. \n"
     ]
    },
    {
     "name": "stdout",
     "output_type": "stream",
     "text": [
      "\n",
      "Test accuracy after epoch 1: 0.8658\n",
      "New best model saved with accuracy 0.8658\n",
      "\u001b[1m9139/9139\u001b[0m \u001b[32m━━━━━━━━━━━━━━━━━━━━\u001b[0m\u001b[37m\u001b[0m \u001b[1m2232s\u001b[0m 243ms/step - accuracy: 0.7737 - loss: 0.4216 - val_accuracy: 0.8656 - val_loss: 0.2871\n",
      "Epoch 2/100\n",
      "\n",
      "Epoch 2: val_accuracy improved from 0.86560 to 0.89421, saving model to best_val_model.h5\n",
      "0.8776 - loss: 0.2587   "
     ]
    },
    {
     "name": "stderr",
     "output_type": "stream",
     "text": [
      "WARNING:absl:You are saving your model as an HDF5 file via `model.save()` or `keras.saving.save_model(model)`. This file format is considered legacy. We recommend using instead the native Keras format, e.g. `model.save('my_model.keras')` or `keras.saving.save_model(model, 'my_model.keras')`. \n"
     ]
    },
    {
     "name": "stdout",
     "output_type": "stream",
     "text": [
      "\u001b[1m3917/3917\u001b[0m \u001b[32m━━━━━━━━━━━━━━━━━━━━\u001b[0m\u001b[37m\u001b[0m \u001b[1m212s\u001b[0m 54ms/step\n"
     ]
    },
    {
     "name": "stderr",
     "output_type": "stream",
     "text": [
      "WARNING:absl:You are saving your model as an HDF5 file via `model.save()` or `keras.saving.save_model(model)`. This file format is considered legacy. We recommend using instead the native Keras format, e.g. `model.save('my_model.keras')` or `keras.saving.save_model(model, 'my_model.keras')`. \n"
     ]
    },
    {
     "name": "stdout",
     "output_type": "stream",
     "text": [
      "\n",
      "Test accuracy after epoch 2: 0.8964\n",
      "New best model saved with accuracy 0.8964\n",
      "\u001b[1m9139/9139\u001b[0m \u001b[32m━━━━━━━━━━━━━━━━━━━━\u001b[0m\u001b[37m\u001b[0m \u001b[1m2245s\u001b[0m 246ms/step - accuracy: 0.8776 - loss: 0.2587 - val_accuracy: 0.8942 - val_loss: 0.2273\n",
      "Epoch 3/100\n",
      "\n",
      "Epoch 3: val_accuracy improved from 0.89421 to 0.90444, saving model to best_val_model.h5\n",
      "0.9058 - loss: 0.2004   "
     ]
    },
    {
     "name": "stderr",
     "output_type": "stream",
     "text": [
      "WARNING:absl:You are saving your model as an HDF5 file via `model.save()` or `keras.saving.save_model(model)`. This file format is considered legacy. We recommend using instead the native Keras format, e.g. `model.save('my_model.keras')` or `keras.saving.save_model(model, 'my_model.keras')`. \n"
     ]
    },
    {
     "name": "stdout",
     "output_type": "stream",
     "text": [
      "\u001b[1m3917/3917\u001b[0m \u001b[32m━━━━━━━━━━━━━━━━━━━━\u001b[0m\u001b[37m\u001b[0m \u001b[1m207s\u001b[0m 53ms/step\n"
     ]
    },
    {
     "name": "stderr",
     "output_type": "stream",
     "text": [
      "WARNING:absl:You are saving your model as an HDF5 file via `model.save()` or `keras.saving.save_model(model)`. This file format is considered legacy. We recommend using instead the native Keras format, e.g. `model.save('my_model.keras')` or `keras.saving.save_model(model, 'my_model.keras')`. \n"
     ]
    },
    {
     "name": "stdout",
     "output_type": "stream",
     "text": [
      "\n",
      "Test accuracy after epoch 3: 0.9073\n",
      "New best model saved with accuracy 0.9073\n",
      "\u001b[1m9139/9139\u001b[0m \u001b[32m━━━━━━━━━━━━━━━━━━━━\u001b[0m\u001b[37m\u001b[0m \u001b[1m2246s\u001b[0m 246ms/step - accuracy: 0.9058 - loss: 0.2004 - val_accuracy: 0.9044 - val_loss: 0.2081\n",
      "Epoch 4/100\n",
      "\n",
      "Epoch 4: val_accuracy improved from 0.90444 to 0.91266, saving model to best_val_model.h5\n",
      "0.9224 - loss: 0.1670   "
     ]
    },
    {
     "name": "stderr",
     "output_type": "stream",
     "text": [
      "WARNING:absl:You are saving your model as an HDF5 file via `model.save()` or `keras.saving.save_model(model)`. This file format is considered legacy. We recommend using instead the native Keras format, e.g. `model.save('my_model.keras')` or `keras.saving.save_model(model, 'my_model.keras')`. \n"
     ]
    },
    {
     "name": "stdout",
     "output_type": "stream",
     "text": [
      "\u001b[1m3917/3917\u001b[0m \u001b[32m━━━━━━━━━━━━━━━━━━━━\u001b[0m\u001b[37m\u001b[0m \u001b[1m211s\u001b[0m 54ms/step\n"
     ]
    },
    {
     "name": "stderr",
     "output_type": "stream",
     "text": [
      "WARNING:absl:You are saving your model as an HDF5 file via `model.save()` or `keras.saving.save_model(model)`. This file format is considered legacy. We recommend using instead the native Keras format, e.g. `model.save('my_model.keras')` or `keras.saving.save_model(model, 'my_model.keras')`. \n"
     ]
    },
    {
     "name": "stdout",
     "output_type": "stream",
     "text": [
      "\n",
      "Test accuracy after epoch 4: 0.9151\n",
      "New best model saved with accuracy 0.9151\n",
      "\u001b[1m9139/9139\u001b[0m \u001b[32m━━━━━━━━━━━━━━━━━━━━\u001b[0m\u001b[37m\u001b[0m \u001b[1m2247s\u001b[0m 246ms/step - accuracy: 0.9224 - loss: 0.1670 - val_accuracy: 0.9127 - val_loss: 0.1973\n",
      "Epoch 5/100\n",
      "\n",
      "Epoch 5: val_accuracy improved from 0.91266 to 0.92247, saving model to best_val_model.h5\n",
      "0.9358 - loss: 0.1403   "
     ]
    },
    {
     "name": "stderr",
     "output_type": "stream",
     "text": [
      "WARNING:absl:You are saving your model as an HDF5 file via `model.save()` or `keras.saving.save_model(model)`. This file format is considered legacy. We recommend using instead the native Keras format, e.g. `model.save('my_model.keras')` or `keras.saving.save_model(model, 'my_model.keras')`. \n"
     ]
    },
    {
     "name": "stdout",
     "output_type": "stream",
     "text": [
      "\u001b[1m3917/3917\u001b[0m \u001b[32m━━━━━━━━━━━━━━━━━━━━\u001b[0m\u001b[37m\u001b[0m \u001b[1m213s\u001b[0m 54ms/step\n"
     ]
    },
    {
     "name": "stderr",
     "output_type": "stream",
     "text": [
      "WARNING:absl:You are saving your model as an HDF5 file via `model.save()` or `keras.saving.save_model(model)`. This file format is considered legacy. We recommend using instead the native Keras format, e.g. `model.save('my_model.keras')` or `keras.saving.save_model(model, 'my_model.keras')`. \n"
     ]
    },
    {
     "name": "stdout",
     "output_type": "stream",
     "text": [
      "\n",
      "Test accuracy after epoch 5: 0.9257\n",
      "New best model saved with accuracy 0.9257\n",
      "\u001b[1m9139/9139\u001b[0m \u001b[32m━━━━━━━━━━━━━━━━━━━━\u001b[0m\u001b[37m\u001b[0m \u001b[1m2239s\u001b[0m 245ms/step - accuracy: 0.9358 - loss: 0.1403 - val_accuracy: 0.9225 - val_loss: 0.1756\n",
      "Epoch 6/100\n",
      "\n",
      "Epoch 6: val_accuracy improved from 0.92247 to 0.93648, saving model to best_val_model.h5\n",
      "0.9458 - loss: 0.1172   "
     ]
    },
    {
     "name": "stderr",
     "output_type": "stream",
     "text": [
      "WARNING:absl:You are saving your model as an HDF5 file via `model.save()` or `keras.saving.save_model(model)`. This file format is considered legacy. We recommend using instead the native Keras format, e.g. `model.save('my_model.keras')` or `keras.saving.save_model(model, 'my_model.keras')`. \n"
     ]
    },
    {
     "name": "stdout",
     "output_type": "stream",
     "text": [
      "\u001b[1m3917/3917\u001b[0m \u001b[32m━━━━━━━━━━━━━━━━━━━━\u001b[0m\u001b[37m\u001b[0m \u001b[1m206s\u001b[0m 52ms/step\n"
     ]
    },
    {
     "name": "stderr",
     "output_type": "stream",
     "text": [
      "WARNING:absl:You are saving your model as an HDF5 file via `model.save()` or `keras.saving.save_model(model)`. This file format is considered legacy. We recommend using instead the native Keras format, e.g. `model.save('my_model.keras')` or `keras.saving.save_model(model, 'my_model.keras')`. \n"
     ]
    },
    {
     "name": "stdout",
     "output_type": "stream",
     "text": [
      "\n",
      "Test accuracy after epoch 6: 0.9384\n",
      "New best model saved with accuracy 0.9384\n",
      "\u001b[1m9139/9139\u001b[0m \u001b[32m━━━━━━━━━━━━━━━━━━━━\u001b[0m\u001b[37m\u001b[0m \u001b[1m2199s\u001b[0m 241ms/step - accuracy: 0.9458 - loss: 0.1172 - val_accuracy: 0.9365 - val_loss: 0.1551\n",
      "Epoch 7/100\n",
      "\n",
      "Epoch 7: val_accuracy did not improve from 0.93648\n",
      "\u001b[1m3917/3917\u001b[0m \u001b[32m━━━━━━━━━━━━━━━━━━━━\u001b[0m\u001b[37m\u001b[0m \u001b[1m209s\u001b[0m 53ms/step\n",
      "\n",
      "Test accuracy after epoch 7: 0.9308\n",
      "\u001b[1m9139/9139\u001b[0m \u001b[32m━━━━━━━━━━━━━━━━━━━━\u001b[0m\u001b[37m\u001b[0m \u001b[1m2138s\u001b[0m 234ms/step - accuracy: 0.9531 - loss: 0.1018 - val_accuracy: 0.9277 - val_loss: 0.1703\n",
      "Epoch 8/100\n",
      "\n",
      "Epoch 8: val_accuracy improved from 0.93648 to 0.94064, saving model to best_val_model.h5\n",
      "0.9592 - loss: 0.0888   "
     ]
    },
    {
     "name": "stderr",
     "output_type": "stream",
     "text": [
      "WARNING:absl:You are saving your model as an HDF5 file via `model.save()` or `keras.saving.save_model(model)`. This file format is considered legacy. We recommend using instead the native Keras format, e.g. `model.save('my_model.keras')` or `keras.saving.save_model(model, 'my_model.keras')`. \n"
     ]
    },
    {
     "name": "stdout",
     "output_type": "stream",
     "text": [
      "\u001b[1m3917/3917\u001b[0m \u001b[32m━━━━━━━━━━━━━━━━━━━━\u001b[0m\u001b[37m\u001b[0m \u001b[1m217s\u001b[0m 55ms/step\n"
     ]
    },
    {
     "name": "stderr",
     "output_type": "stream",
     "text": [
      "WARNING:absl:You are saving your model as an HDF5 file via `model.save()` or `keras.saving.save_model(model)`. This file format is considered legacy. We recommend using instead the native Keras format, e.g. `model.save('my_model.keras')` or `keras.saving.save_model(model, 'my_model.keras')`. \n"
     ]
    },
    {
     "name": "stdout",
     "output_type": "stream",
     "text": [
      "\n",
      "Test accuracy after epoch 8: 0.9426\n",
      "New best model saved with accuracy 0.9426\n",
      "\u001b[1m9139/9139\u001b[0m \u001b[32m━━━━━━━━━━━━━━━━━━━━\u001b[0m\u001b[37m\u001b[0m \u001b[1m2255s\u001b[0m 247ms/step - accuracy: 0.9592 - loss: 0.0888 - val_accuracy: 0.9406 - val_loss: 0.1533\n",
      "Epoch 9/100\n",
      "\n",
      "Epoch 9: val_accuracy did not improve from 0.94064\n",
      "\u001b[1m3917/3917\u001b[0m \u001b[32m━━━━━━━━━━━━━━━━━━━━\u001b[0m\u001b[37m\u001b[0m \u001b[1m212s\u001b[0m 54ms/step\n"
     ]
    },
    {
     "name": "stderr",
     "output_type": "stream",
     "text": [
      "WARNING:absl:You are saving your model as an HDF5 file via `model.save()` or `keras.saving.save_model(model)`. This file format is considered legacy. We recommend using instead the native Keras format, e.g. `model.save('my_model.keras')` or `keras.saving.save_model(model, 'my_model.keras')`. \n"
     ]
    },
    {
     "name": "stdout",
     "output_type": "stream",
     "text": [
      "\n",
      "Test accuracy after epoch 9: 0.9426\n",
      "New best model saved with accuracy 0.9426\n",
      "\u001b[1m9139/9139\u001b[0m \u001b[32m━━━━━━━━━━━━━━━━━━━━\u001b[0m\u001b[37m\u001b[0m \u001b[1m2234s\u001b[0m 244ms/step - accuracy: 0.9641 - loss: 0.0785 - val_accuracy: 0.9404 - val_loss: 0.1557\n",
      "Epoch 10/100\n",
      "\n",
      "Epoch 10: val_accuracy improved from 0.94064 to 0.94333, saving model to best_val_model.h5\n",
      ".9675 - loss: 0.0706   "
     ]
    },
    {
     "name": "stderr",
     "output_type": "stream",
     "text": [
      "WARNING:absl:You are saving your model as an HDF5 file via `model.save()` or `keras.saving.save_model(model)`. This file format is considered legacy. We recommend using instead the native Keras format, e.g. `model.save('my_model.keras')` or `keras.saving.save_model(model, 'my_model.keras')`. \n"
     ]
    },
    {
     "name": "stdout",
     "output_type": "stream",
     "text": [
      "\u001b[1m3917/3917\u001b[0m \u001b[32m━━━━━━━━━━━━━━━━━━━━\u001b[0m\u001b[37m\u001b[0m \u001b[1m211s\u001b[0m 54ms/step\n"
     ]
    },
    {
     "name": "stderr",
     "output_type": "stream",
     "text": [
      "WARNING:absl:You are saving your model as an HDF5 file via `model.save()` or `keras.saving.save_model(model)`. This file format is considered legacy. We recommend using instead the native Keras format, e.g. `model.save('my_model.keras')` or `keras.saving.save_model(model, 'my_model.keras')`. \n"
     ]
    },
    {
     "name": "stdout",
     "output_type": "stream",
     "text": [
      "\n",
      "Test accuracy after epoch 10: 0.9452\n",
      "New best model saved with accuracy 0.9452\n",
      "\u001b[1m9139/9139\u001b[0m \u001b[32m━━━━━━━━━━━━━━━━━━━━\u001b[0m\u001b[37m\u001b[0m \u001b[1m2247s\u001b[0m 246ms/step - accuracy: 0.9675 - loss: 0.0706 - val_accuracy: 0.9433 - val_loss: 0.1543\n",
      "Epoch 11/100\n",
      "\n",
      "Epoch 11: val_accuracy improved from 0.94333 to 0.94417, saving model to best_val_model.h5\n",
      ".9700 - loss: 0.0652   "
     ]
    },
    {
     "name": "stderr",
     "output_type": "stream",
     "text": [
      "WARNING:absl:You are saving your model as an HDF5 file via `model.save()` or `keras.saving.save_model(model)`. This file format is considered legacy. We recommend using instead the native Keras format, e.g. `model.save('my_model.keras')` or `keras.saving.save_model(model, 'my_model.keras')`. \n"
     ]
    },
    {
     "name": "stdout",
     "output_type": "stream",
     "text": [
      "\u001b[1m3917/3917\u001b[0m \u001b[32m━━━━━━━━━━━━━━━━━━━━\u001b[0m\u001b[37m\u001b[0m \u001b[1m211s\u001b[0m 54ms/step\n"
     ]
    },
    {
     "name": "stderr",
     "output_type": "stream",
     "text": [
      "WARNING:absl:You are saving your model as an HDF5 file via `model.save()` or `keras.saving.save_model(model)`. This file format is considered legacy. We recommend using instead the native Keras format, e.g. `model.save('my_model.keras')` or `keras.saving.save_model(model, 'my_model.keras')`. \n"
     ]
    },
    {
     "name": "stdout",
     "output_type": "stream",
     "text": [
      "\n",
      "Test accuracy after epoch 11: 0.9465\n",
      "New best model saved with accuracy 0.9465\n",
      "\u001b[1m9139/9139\u001b[0m \u001b[32m━━━━━━━━━━━━━━━━━━━━\u001b[0m\u001b[37m\u001b[0m \u001b[1m2252s\u001b[0m 246ms/step - accuracy: 0.9700 - loss: 0.0652 - val_accuracy: 0.9442 - val_loss: 0.1562\n",
      "Epoch 12/100\n",
      "\n",
      "Epoch 12: val_accuracy improved from 0.94417 to 0.94526, saving model to best_val_model.h5\n",
      ".9726 - loss: 0.0599   "
     ]
    },
    {
     "name": "stderr",
     "output_type": "stream",
     "text": [
      "WARNING:absl:You are saving your model as an HDF5 file via `model.save()` or `keras.saving.save_model(model)`. This file format is considered legacy. We recommend using instead the native Keras format, e.g. `model.save('my_model.keras')` or `keras.saving.save_model(model, 'my_model.keras')`. \n"
     ]
    },
    {
     "name": "stdout",
     "output_type": "stream",
     "text": [
      "\u001b[1m3917/3917\u001b[0m \u001b[32m━━━━━━━━━━━━━━━━━━━━\u001b[0m\u001b[37m\u001b[0m \u001b[1m216s\u001b[0m 55ms/step\n"
     ]
    },
    {
     "name": "stderr",
     "output_type": "stream",
     "text": [
      "WARNING:absl:You are saving your model as an HDF5 file via `model.save()` or `keras.saving.save_model(model)`. This file format is considered legacy. We recommend using instead the native Keras format, e.g. `model.save('my_model.keras')` or `keras.saving.save_model(model, 'my_model.keras')`. \n"
     ]
    },
    {
     "name": "stdout",
     "output_type": "stream",
     "text": [
      "\n",
      "Test accuracy after epoch 12: 0.9475\n",
      "New best model saved with accuracy 0.9475\n",
      "\u001b[1m9139/9139\u001b[0m \u001b[32m━━━━━━━━━━━━━━━━━━━━\u001b[0m\u001b[37m\u001b[0m \u001b[1m2235s\u001b[0m 245ms/step - accuracy: 0.9726 - loss: 0.0599 - val_accuracy: 0.9453 - val_loss: 0.1551\n",
      "Epoch 13/100\n",
      "\n",
      "Epoch 13: val_accuracy improved from 0.94526 to 0.94610, saving model to best_val_model.h5\n",
      ".9745 - loss: 0.0559   "
     ]
    },
    {
     "name": "stderr",
     "output_type": "stream",
     "text": [
      "WARNING:absl:You are saving your model as an HDF5 file via `model.save()` or `keras.saving.save_model(model)`. This file format is considered legacy. We recommend using instead the native Keras format, e.g. `model.save('my_model.keras')` or `keras.saving.save_model(model, 'my_model.keras')`. \n"
     ]
    },
    {
     "name": "stdout",
     "output_type": "stream",
     "text": [
      "\u001b[1m3917/3917\u001b[0m \u001b[32m━━━━━━━━━━━━━━━━━━━━\u001b[0m\u001b[37m\u001b[0m \u001b[1m215s\u001b[0m 55ms/step\n"
     ]
    },
    {
     "name": "stderr",
     "output_type": "stream",
     "text": [
      "WARNING:absl:You are saving your model as an HDF5 file via `model.save()` or `keras.saving.save_model(model)`. This file format is considered legacy. We recommend using instead the native Keras format, e.g. `model.save('my_model.keras')` or `keras.saving.save_model(model, 'my_model.keras')`. \n"
     ]
    },
    {
     "name": "stdout",
     "output_type": "stream",
     "text": [
      "\n",
      "Test accuracy after epoch 13: 0.9476\n",
      "New best model saved with accuracy 0.9476\n",
      "\u001b[1m9139/9139\u001b[0m \u001b[32m━━━━━━━━━━━━━━━━━━━━\u001b[0m\u001b[37m\u001b[0m \u001b[1m2256s\u001b[0m 247ms/step - accuracy: 0.9745 - loss: 0.0559 - val_accuracy: 0.9461 - val_loss: 0.1543\n",
      "Epoch 13: early stopping\n",
      "Restoring model weights from the end of the best epoch: 8.\n"
     ]
    },
    {
     "data": {
      "image/png": "[encoded data removed]",
      "text/plain": [
       "<Figure size 1200x400 with 2 Axes>"
      ]
     },
     "metadata": {},
     "output_type": "display_data"
    },
    {
     "name": "stderr",
     "output_type": "stream",
     "text": [
      "WARNING:absl:Compiled the loaded model, but the compiled metrics have yet to be built. `model.compile_metrics` will be empty until you train or evaluate the model.\n"
     ]
    },
    {
     "name": "stdout",
     "output_type": "stream",
     "text": [
      "\n",
      "Final evaluation on test set:\n",
      "\u001b[1m3917/3917\u001b[0m \u001b[32m━━━━━━━━━━━━━━━━━━━━\u001b[0m\u001b[37m\u001b[0m \u001b[1m211s\u001b[0m 54ms/step\n",
      "Classification Report:\n",
      "              precision    recall  f1-score   support\n",
      "\n",
      "           0       0.98      0.95      0.97    101636\n",
      "           1       0.82      0.92      0.87     23699\n",
      "\n",
      "    accuracy                           0.95    125335\n",
      "   macro avg       0.90      0.94      0.92    125335\n",
      "weighted avg       0.95      0.95      0.95    125335\n",
      "\n",
      "Confusion Matrix:\n",
      "[[96867  4769]\n",
      " [ 1800 21899]]\n",
      "Accuracy: 0.9476\n",
      "Training completed. Best model saved as 'best_model.h5'\n",
      "\n",
      "Sample predictions on test data:\n",
      "\u001b[1m1/1\u001b[0m \u001b[32m━━━━━━━━━━━━━━━━━━━━\u001b[0m\u001b[37m\u001b[0m \u001b[1m0s\u001b[0m 80ms/step\n",
      "Word: əzələli, True label: Incorrect, Prediction: Incorrect (0.9746), ✓\n",
      "Word: nbme, True label: Correct, Prediction: Correct (0.0001), ✓\n",
      "Word: yastıqlaeə, True label: Correct, Prediction: Correct (0.0000), ✓\n",
      "Word: fetişleşdirilme, True label: Correct, Prediction: Correct (0.0000), ✓\n",
      "Word: köruklü, True label: Correct, Prediction: Correct (0.0000), ✓\n"
     ]
    }
   ],
   "source": [
    "import numpy as np\n",
    "import pandas as pd\n",
    "import tensorflow as tf\n",
    "from tensorflow.keras.models import Model\n",
    "from tensorflow.keras.layers import Input, Embedding, Bidirectional, LSTM, Dense, Dropout\n",
    "from tensorflow.keras.preprocessing.sequence import pad_sequences\n",
    "from tensorflow.keras.callbacks import ModelCheckpoint, EarlyStopping, Callback\n",
    "from sklearn.model_selection import train_test_split\n",
    "from sklearn.utils.class_weight import compute_class_weight\n",
    "from sklearn.utils import shuffle\n",
    "from tokenizers import ByteLevelBPETokenizer\n",
    "import matplotlib.pyplot as plt\n",
    "from sklearn.metrics import classification_report, confusion_matrix, accuracy_score\n",
    "\n",
    "class TestEvaluationCallback(Callback):\n",
    "    def __init__(self, test_data, test_labels, model_save_path):\n",
    "        super(TestEvaluationCallback, self).__init__()\n",
    "        self.test_data = test_data\n",
    "        self.test_labels = test_labels\n",
    "        self.model_save_path = model_save_path\n",
    "        self.best_accuracy = 0.0\n",
    "\n",
    "    def on_epoch_end(self, epoch, logs=None):\n",
    "        y_pred_proba = self.model.predict(self.test_data)\n",
    "        y_pred = (y_pred_proba > 0.5).astype(int)\n",
    "        accuracy = accuracy_score(self.test_labels, y_pred)\n",
    "        print(f\"\\nTest accuracy after epoch {epoch+1}: {accuracy:.4f}\")\n",
    "        if accuracy > self.best_accuracy:\n",
    "            self.best_accuracy = accuracy\n",
    "            self.model.save(self.model_save_path)\n",
    "            print(f\"New best model saved with accuracy {accuracy:.4f}\")\n",
    "\n",
    "def load_data(file_path):\n",
    "    df = pd.read_csv(file_path)\n",
    "    df = df.dropna()\n",
    "    print(f\"Dataset loaded. Shape: {df.shape}\")\n",
    "    print(f\"Class distribution:\\n{df['label'].value_counts()}\")\n",
    "    return df\n",
    "\n",
    "def split_data(df, val_size=0.15, test_size=0.15, random_state=42):\n",
    "    df = shuffle(df, random_state=random_state)\n",
    "    train_df, temp_df = train_test_split(\n",
    "        df, \n",
    "        test_size=(val_size + test_size), \n",
    "        random_state=random_state, \n",
    "        stratify=df['label']\n",
    "    )\n",
    "    val_size_adjusted = val_size / (val_size + test_size)\n",
    "    val_df, test_df = train_test_split(\n",
    "        temp_df, \n",
    "        test_size=(1 - val_size_adjusted), \n",
    "        random_state=random_state, \n",
    "        stratify=temp_df['label']\n",
    "    )\n",
    "    print(f\"Training set size: {len(train_df)}\")\n",
    "    print(f\"Validation set size: {len(val_df)}\")\n",
    "    print(f\"Test set size: {len(test_df)}\")\n",
    "    print(f\"Class distribution in training set:\\n{train_df['label'].value_counts()}\")\n",
    "    print(f\"Class distribution in validation set:\\n{val_df['label'].value_counts()}\")\n",
    "    print(f\"Class distribution in test set:\\n{test_df['label'].value_counts()}\")\n",
    "    return train_df, val_df, test_df\n",
    "\n",
    "def train_bpe_tokenizer(texts, vocab_size=10000, min_frequency=2):\n",
    "    with open('temp_corpus.txt', 'w', encoding='utf-8') as f:\n",
    "        for text in texts:\n",
    "            f.write(f\"{text}\\n\")\n",
    "    tokenizer = ByteLevelBPETokenizer()\n",
    "    tokenizer.train(\n",
    "        files=['temp_corpus.txt'],\n",
    "        vocab_size=vocab_size,\n",
    "        min_frequency=min_frequency,\n",
    "        special_tokens=['<pad>', '<unk>', '<cls>', '<sep>']\n",
    "    )\n",
    "    tokenizer.save_model('./')\n",
    "    return tokenizer\n",
    "\n",
    "def tokenize_text(tokenizer, texts, max_length=20):\n",
    "    encoded_texts = []\n",
    "    for text in texts:\n",
    "        tokens = tokenizer.encode(text).ids\n",
    "        encoded_texts.append(tokens)\n",
    "    padded_texts = pad_sequences(encoded_texts, maxlen=max_length, padding='post')\n",
    "    return padded_texts\n",
    "\n",
    "def create_bilstm_model(vocab_size, max_length, embedding_dim=100, lstm_units=128):\n",
    "    input_layer = Input(shape=(max_length,))\n",
    "    embedding_layer = Embedding(vocab_size, embedding_dim, input_length=max_length)(input_layer)\n",
    "    bilstm_layer = Bidirectional(LSTM(lstm_units, return_sequences=True))(embedding_layer)\n",
    "    bilstm_layer = Bidirectional(LSTM(lstm_units))(bilstm_layer)\n",
    "    dropout_layer = Dropout(0.3)(bilstm_layer)\n",
    "    output_layer = Dense(1, activation='sigmoid')(dropout_layer)\n",
    "    model = Model(inputs=input_layer, outputs=output_layer)\n",
    "    model.compile(\n",
    "        optimizer='adam',\n",
    "        loss='binary_crossentropy',\n",
    "        metrics=['accuracy']\n",
    "    )\n",
    "    return model\n",
    "\n",
    "def plot_training_history(history):\n",
    "    plt.figure(figsize=(12, 4))\n",
    "    plt.subplot(1, 2, 1)\n",
    "    plt.plot(history.history['loss'], label='Training Loss')\n",
    "    plt.plot(history.history['val_loss'], label='Validation Loss')\n",
    "    plt.title('Training Loss')\n",
    "    plt.xlabel('Epoch')\n",
    "    plt.ylabel('Loss')\n",
    "    plt.legend()\n",
    "    plt.subplot(1, 2, 2)\n",
    "    plt.plot(history.history['accuracy'], label='Training Accuracy')\n",
    "    plt.plot(history.history['val_accuracy'], label='Validation Accuracy')\n",
    "    plt.title('Training Accuracy')\n",
    "    plt.xlabel('Epoch')\n",
    "    plt.ylabel('Accuracy')\n",
    "    plt.legend()\n",
    "    plt.tight_layout()\n",
    "    plt.savefig('training_history.png')\n",
    "    plt.show()\n",
    "\n",
    "def evaluate_model(model, X_test, y_test):\n",
    "    y_pred_proba = model.predict(X_test)\n",
    "    y_pred = (y_pred_proba > 0.5).astype(int)\n",
    "    print(\"Classification Report:\")\n",
    "    print(classification_report(y_test, y_pred))\n",
    "    conf_matrix = confusion_matrix(y_test, y_pred)\n",
    "    print(\"Confusion Matrix:\")\n",
    "    print(conf_matrix)\n",
    "    accuracy = accuracy_score(y_test, y_pred)\n",
    "    print(f\"Accuracy: {accuracy:.4f}\")\n",
    "    return y_pred\n",
    "\n",
    "def use_spell_checker(model_path, tokenizer_path, words):\n",
    "    model = tf.keras.models.load_model(model_path)\n",
    "    tokenizer = ByteLevelBPETokenizer(\n",
    "        tokenizer_path + \"/vocab.json\",\n",
    "        tokenizer_path + \"/merges.txt\"\n",
    "    )\n",
    "    encoded_words = tokenize_text(tokenizer, words, max_length=30)\n",
    "    predictions = model.predict(encoded_words)\n",
    "    results = []\n",
    "    for word, pred in zip(words, predictions):\n",
    "        is_correct = pred <= 0.5\n",
    "        confidence = 1 - pred[0] if is_correct else pred[0]\n",
    "        results.append({\n",
    "            'word': word,\n",
    "            'is_correct': bool(is_correct),\n",
    "            'confidence': float(confidence),\n",
    "            'prediction': \"Correct\" if is_correct else \"Incorrect\"\n",
    "        })\n",
    "    return results\n",
    "\n",
    "def spell_check_example():\n",
    "    model_path = 'best_model.h5'\n",
    "    tokenizer_path = './'\n",
    "    test_words = [\n",
    "        \"abadlaşdirma\",\n",
    "        \"abadlasdirma\",\n",
    "        \"kitab\",\n",
    "        \"kitep\",\n",
    "        \"məktəb\",\n",
    "        \"mekteb\"\n",
    "    ]\n",
    "    results = use_spell_checker(model_path, tokenizer_path, test_words)\n",
    "    print(\"\\nSpell check results:\")\n",
    "    for result in results:\n",
    "        print(f\"Word: {result['word']}, Result: {result['prediction']} (confidence: {result['confidence']:.4f})\")\n",
    "\n",
    "def main():\n",
    "    file_path = 'correct_mistake_word_classification_dataset.csv'\n",
    "    vocab_size = 1000\n",
    "    max_length = 30\n",
    "    embedding_dim = 100\n",
    "    lstm_units = 128\n",
    "    batch_size = 64\n",
    "    epochs = 100\n",
    "    val_size = 0.15\n",
    "    test_size = 0.15\n",
    "    df = load_data(file_path)\n",
    "    train_df, val_df, test_df = split_data(df, val_size=val_size, test_size=test_size)\n",
    "    tokenizer = train_bpe_tokenizer(train_df['word'].values, vocab_size=vocab_size)\n",
    "    X_train_encoded = tokenize_text(tokenizer, train_df['word'].values, max_length=max_length)\n",
    "    X_val_encoded = tokenize_text(tokenizer, val_df['word'].values, max_length=max_length)\n",
    "    X_test_encoded = tokenize_text(tokenizer, test_df['word'].values, max_length=max_length)\n",
    "    y_train = train_df['label'].values\n",
    "    y_val = val_df['label'].values\n",
    "    y_test = test_df['label'].values\n",
    "    class_weights = compute_class_weight(\n",
    "        'balanced',\n",
    "        classes=np.unique(y_train),\n",
    "        y=y_train\n",
    "    )\n",
    "    class_weights_dict = {i: weight for i, weight in enumerate(class_weights)}\n",
    "    print(f\"Class weights: {class_weights_dict}\")\n",
    "    model = create_bilstm_model(\n",
    "        vocab_size=vocab_size + 4,\n",
    "        max_length=max_length,\n",
    "        embedding_dim=embedding_dim,\n",
    "        lstm_units=lstm_units\n",
    "    )\n",
    "    model.summary()\n",
    "    best_model_path = 'best_model.h5'\n",
    "    callbacks = [\n",
    "        ModelCheckpoint(\n",
    "            'best_val_model.h5',\n",
    "            monitor='val_accuracy',\n",
    "            save_best_only=True,\n",
    "            mode='max',\n",
    "            verbose=1\n",
    "        ),\n",
    "        EarlyStopping(\n",
    "            monitor='val_loss',\n",
    "            patience=5,\n",
    "            restore_best_weights=True,\n",
    "            verbose=1\n",
    "        ),\n",
    "        TestEvaluationCallback(X_test_encoded, y_test, best_model_path)\n",
    "    ]\n",
    "    history = model.fit(\n",
    "        X_train_encoded, y_train,\n",
    "        validation_data=(X_val_encoded, y_val),\n",
    "        batch_size=batch_size,\n",
    "        epochs=epochs,\n",
    "        class_weight=class_weights_dict,\n",
    "        callbacks=callbacks\n",
    "    )\n",
    "    plot_training_history(history)\n",
    "    best_model = tf.keras.models.load_model(best_model_path)\n",
    "    print(\"\\nFinal evaluation on test set:\")\n",
    "    evaluate_model(best_model, X_test_encoded, y_test)\n",
    "    print(\"Training completed. Best model saved as 'best_model.h5'\")\n",
    "    print(\"\\nSample predictions on test data:\")\n",
    "    sample_indices = np.random.choice(len(test_df), size=5, replace=False)\n",
    "    sample_words = test_df['word'].values[sample_indices]\n",
    "    sample_labels = test_df['label'].values[sample_indices]\n",
    "    sample_encoded = tokenize_text(tokenizer, sample_words, max_length=max_length)\n",
    "    predictions = best_model.predict(sample_encoded)\n",
    "    for word, true_label, pred in zip(sample_words, sample_labels, predictions):\n",
    "        pred_label = \"Incorrect\" if pred > 0.5 else \"Correct\"\n",
    "        true_label_str = \"Incorrect\" if true_label == 1 else \"Correct\"\n",
    "        is_correct = (pred > 0.5) == (true_label == 1)\n",
    "        print(f\"Word: {word}, True label: {true_label_str}, Prediction: {pred_label} ({pred[0]:.4f}), {'✓' if is_correct else '✗'}\")\n",
    "\n",
    "if __name__ == \"__main__\":\n",
    "    main()\n"
   ]
  },
  {
   "cell_type": "code",
   "execution_count": null,
   "id": "69d60801-0087-4aa2-b6e0-3d279413ef5b",
   "metadata": {},
   "outputs": [],
   "source": []
  }
 ],
 "metadata": {
  "kernelspec": {
   "display_name": "Python 3 (ipykernel)",
   "language": "python",
   "name": "python3"
  },
  "language_info": {
   "codemirror_mode": {
    "name": "ipython",
    "version": 3
   },
   "file_extension": ".py",
   "mimetype": "text/x-python",
   "name": "python",
   "nbconvert_exporter": "python",
   "pygments_lexer": "ipython3",
   "version": "3.12.3"
  }
 },
 "nbformat": 4,
 "nbformat_minor": 5
}
